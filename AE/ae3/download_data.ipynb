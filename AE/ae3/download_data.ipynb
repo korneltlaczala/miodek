{
 "cells": [
  {
   "cell_type": "markdown",
   "id": "94152218",
   "metadata": {},
   "source": [
    "# Auto MPG dataset\n",
    "80-20 (train-test) split"
   ]
  },
  {
   "cell_type": "code",
   "execution_count": 7,
   "id": "791d462d",
   "metadata": {},
   "outputs": [
    {
     "name": "stdout",
     "output_type": "stream",
     "text": [
      "(398, 7) (398, 1)\n",
      "(392, 7) (392, 1)\n",
      "[3.830e+02 8.000e+00 1.700e+02 3.563e+03 1.000e+01 7.000e+01 1.000e+00\n",
      " 1.500e+01]\n"
     ]
    }
   ],
   "source": [
    "from ucimlrepo import fetch_ucirepo\n",
    "import numpy as np\n",
    "import pandas as pd\n",
    "from sklearn.model_selection import train_test_split\n",
    "\n",
    "auto_mpg = fetch_ucirepo(id=9) \n",
    "\n",
    "X_mpg = auto_mpg.data.features \n",
    "y_mpg = auto_mpg.data.targets \n",
    "print(X_mpg.shape, y_mpg.shape)\n",
    "X_mpg = X_mpg.dropna()\n",
    "y_mpg = y_mpg.loc[X_mpg.index].dropna()\n",
    "X_mpg = X_mpg.loc[y_mpg.index]\n",
    "print(X_mpg.shape, y_mpg.shape)\n",
    "X_train_mpg = X_mpg.to_numpy()\n",
    "y_train_mpg = y_mpg.to_numpy().reshape(-1, 1)\n",
    "\n",
    "# Remove rows with NaNs from X_train_mpg or y_train_mpg\n",
    "data_mpg = np.hstack((X_train_mpg, y_train_mpg))\n",
    "print(data_mpg[10])\n",
    "\n",
    "# Split the data into train and test sets\n",
    "X_train, X_test, y_train, y_test = train_test_split(\n",
    "    X_mpg, y_mpg, test_size=0.2, random_state=42\n",
    ")\n",
    "df_full = pd.concat([X_train.reset_index(drop=True), y_train.reset_index(drop=True)], axis=1)\n",
    "df_train = pd.concat([X_train.reset_index(drop=True), y_train.reset_index(drop=True)], axis=1)\n",
    "df_test = pd.concat([X_test.reset_index(drop=True), y_test.reset_index(drop=True)], axis=1)\n",
    "\n",
    "df_full.to_csv('data/auto_mpg-full.csv', index=False)\n",
    "df_train.to_csv('data/auto_mpg-training.csv', index=False)\n",
    "df_test.to_csv('data/auto_mpg-test.csv', index=False)"
   ]
  },
  {
   "cell_type": "markdown",
   "id": "1a19ed71",
   "metadata": {},
   "source": [
    "# Iris dataset\n",
    "50-50 split"
   ]
  },
  {
   "cell_type": "code",
   "execution_count": 10,
   "id": "4fb9191a",
   "metadata": {},
   "outputs": [
    {
     "name": "stderr",
     "output_type": "stream",
     "text": [
      "C:\\Users\\Kornel\\AppData\\Local\\Temp\\ipykernel_43240\\462949627.py:12: SettingWithCopyWarning: \n",
      "A value is trying to be set on a copy of a slice from a DataFrame.\n",
      "Try using .loc[row_indexer,col_indexer] = value instead\n",
      "\n",
      "See the caveats in the documentation: https://pandas.pydata.org/pandas-docs/stable/user_guide/indexing.html#returning-a-view-versus-a-copy\n",
      "  y_iris['class'] = pd.factorize(y_iris['class'])[0]\n"
     ]
    }
   ],
   "source": [
    "from ucimlrepo import fetch_ucirepo\n",
    "import numpy as np\n",
    "import pandas as pd\n",
    "from sklearn.model_selection import train_test_split\n",
    "  \n",
    "# fetch dataset \n",
    "iris = fetch_ucirepo(id=53) \n",
    "  \n",
    "# data (as pandas dataframes) \n",
    "X_iris = iris.data.features \n",
    "y_iris = iris.data.targets \n",
    "y_iris['class'] = pd.factorize(y_iris['class'])[0]\n",
    "\n",
    "\n",
    "# Remove rows with NaNs from X_iris or y_iris\n",
    "X_iris_clean = X_iris.dropna()\n",
    "y_iris_clean = y_iris.loc[X_iris_clean.index].dropna()\n",
    "X_iris_clean = X_iris_clean.loc[y_iris_clean.index]\n",
    "\n",
    "# Split the data into train and test sets\n",
    "X_train_iris, X_test_iris, y_train_iris, y_test_iris = train_test_split(\n",
    "    X_iris_clean, y_iris_clean, test_size=0.5, random_state=42\n",
    ")\n",
    "\n",
    "df_full_iris = pd.concat([X_train_iris.reset_index(drop=True), y_train_iris.reset_index(drop=True)], axis=1)\n",
    "df_train_iris = pd.concat([X_train_iris.reset_index(drop=True), y_train_iris.reset_index(drop=True)], axis=1)\n",
    "df_test_iris = pd.concat([X_test_iris.reset_index(drop=True), y_test_iris.reset_index(drop=True)], axis=1)\n",
    "\n",
    "df_full_iris.to_csv('data/iris-full.csv', index=False)\n",
    "df_train_iris.to_csv('data/iris-training.csv', index=False)\n",
    "df_test_iris.to_csv('data/iris-test.csv', index=False)"
   ]
  }
 ],
 "metadata": {
  "kernelspec": {
   "display_name": "Python 3",
   "language": "python",
   "name": "python3"
  },
  "language_info": {
   "codemirror_mode": {
    "name": "ipython",
    "version": 3
   },
   "file_extension": ".py",
   "mimetype": "text/x-python",
   "name": "python",
   "nbconvert_exporter": "python",
   "pygments_lexer": "ipython3",
   "version": "3.12.4"
  }
 },
 "nbformat": 4,
 "nbformat_minor": 5
}
