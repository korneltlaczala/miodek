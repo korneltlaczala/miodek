{
 "cells": [
  {
   "cell_type": "code",
   "execution_count": 1,
   "id": "581dec46",
   "metadata": {},
   "outputs": [
    {
     "name": "stdout",
     "output_type": "stream",
     "text": [
      "The autoreload extension is already loaded. To reload it, use:\n",
      "  %reload_ext autoreload\n"
     ]
    }
   ],
   "source": [
    "from evo_models import *\n",
    "\n",
    "%load_ext autoreload\n",
    "%autoreload 2"
   ]
  },
  {
   "cell_type": "code",
   "execution_count": 11,
   "id": "abcec8be",
   "metadata": {},
   "outputs": [],
   "source": [
    "pop = ModelPopulation(\n",
    "    architecture=MLPArchitecture(1, [10], 1),\n",
    "    dataset_name='square-simple',\n",
    "    data_dir='data'\n",
    ")"
   ]
  },
  {
   "cell_type": "code",
   "execution_count": 12,
   "id": "8427d174",
   "metadata": {},
   "outputs": [
    {
     "name": "stdout",
     "output_type": "stream",
     "text": [
      "Best model test loss: 9009.74557272343\n"
     ]
    }
   ],
   "source": [
    "pop.show_test_loss()"
   ]
  },
  {
   "cell_type": "code",
   "execution_count": 13,
   "id": "5e88ab4b",
   "metadata": {},
   "outputs": [
    {
     "name": "stdout",
     "output_type": "stream",
     "text": [
      "Performing crossover between models...\n",
      "Performing crossover between models...\n",
      "Performing crossover between models...\n",
      "Performing crossover between models...\n",
      "Performing crossover between models...\n",
      "Performing crossover between models...\n",
      "Performing crossover between models...\n",
      "Performing crossover between models...\n",
      "Performing crossover between models...\n",
      "Performing crossover between models...\n"
     ]
    },
    {
     "ename": "ValueError",
     "evalue": "probabilities do not sum to 1",
     "output_type": "error",
     "traceback": [
      "\u001b[31m---------------------------------------------------------------------------\u001b[39m",
      "\u001b[31mValueError\u001b[39m                                Traceback (most recent call last)",
      "\u001b[36mCell\u001b[39m\u001b[36m \u001b[39m\u001b[32mIn[13]\u001b[39m\u001b[32m, line 1\u001b[39m\n\u001b[32m----> \u001b[39m\u001b[32m1\u001b[39m \u001b[43mpop\u001b[49m\u001b[43m.\u001b[49m\u001b[43mtrain\u001b[49m\u001b[43m(\u001b[49m\u001b[43mepochs\u001b[49m\u001b[43m=\u001b[49m\u001b[32;43m1\u001b[39;49m\u001b[43m)\u001b[49m\n",
      "\u001b[36mFile \u001b[39m\u001b[32m<string>:12\u001b[39m, in \u001b[36mtrain\u001b[39m\u001b[34m(self, target_value, epochs, verbose)\u001b[39m\n",
      "\u001b[36mFile \u001b[39m\u001b[32m<string>:5\u001b[39m, in \u001b[36mnatural_selection\u001b[39m\u001b[34m(self, candidates)\u001b[39m\n",
      "\u001b[36mFile \u001b[39m\u001b[32mnumpy/random/mtrand.pyx:994\u001b[39m, in \u001b[36mnumpy.random.mtrand.RandomState.choice\u001b[39m\u001b[34m()\u001b[39m\n",
      "\u001b[31mValueError\u001b[39m: probabilities do not sum to 1"
     ]
    }
   ],
   "source": [
    "pop.train(epochs=1)"
   ]
  }
 ],
 "metadata": {
  "kernelspec": {
   "display_name": "Python 3",
   "language": "python",
   "name": "python3"
  },
  "language_info": {
   "codemirror_mode": {
    "name": "ipython",
    "version": 3
   },
   "file_extension": ".py",
   "mimetype": "text/x-python",
   "name": "python",
   "nbconvert_exporter": "python",
   "pygments_lexer": "ipython3",
   "version": "3.13.3"
  }
 },
 "nbformat": 4,
 "nbformat_minor": 5
}
