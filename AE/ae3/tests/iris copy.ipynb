{
 "cells": [
  {
   "cell_type": "code",
   "execution_count": 2,
   "id": "870b2979",
   "metadata": {},
   "outputs": [],
   "source": [
    "import os\n",
    "import sys\n",
    "sys.path.append(os.path.join(\"..\"))\n",
    "\n",
    "from evo_models import *\n",
    "\n",
    "%load_ext autoreload\n",
    "%autoreload 2"
   ]
  },
  {
   "cell_type": "markdown",
   "id": "384c548a",
   "metadata": {},
   "source": [
    "# Trening sieci MLP przy pomocy algorytmu ewolucyjnego"
   ]
  },
  {
   "cell_type": "code",
   "execution_count": 5,
   "id": "a2bdc8cc",
   "metadata": {},
   "outputs": [
    {
     "name": "stdout",
     "output_type": "stream",
     "text": [
      "Best model test loss: 0.8859929195943297\n"
     ]
    }
   ],
   "source": [
    "pop = ModelPopulation(\n",
    "    # architecture=MLPArchitecture(7, [20, 10, 5], 1),\n",
    "    architecture=MLPArchitecture(4, [5], 3),\n",
    "    dataset_name=\"iris\",\n",
    "    last_layer_activation_func=Softmax(),\n",
    "    loss_function=\"cross_entropy\",\n",
    "    population_size=100,\n",
    ")\n",
    "pop.show_test_loss()"
   ]
  },
  {
   "cell_type": "code",
   "execution_count": 6,
   "id": "9d491c28",
   "metadata": {},
   "outputs": [
    {
     "name": "stderr",
     "output_type": "stream",
     "text": [
      "100%|\u001b[32m█████████████\u001b[0m| 100/100 [00:18<00:00] , Best Loss=0.4567\u001b[0m\n"
     ]
    }
   ],
   "source": [
    "pop.train(epochs=100)"
   ]
  },
  {
   "cell_type": "code",
   "execution_count": 7,
   "id": "aea97796",
   "metadata": {},
   "outputs": [
    {
     "name": "stderr",
     "output_type": "stream",
     "text": [
      "100%|\u001b[32m█████████████\u001b[0m| 100/100 [00:18<00:00] , Best Loss=0.1081\u001b[0m\n"
     ]
    }
   ],
   "source": [
    "pop.train(epochs=100, mutation_strength=0.5)"
   ]
  },
  {
   "cell_type": "code",
   "execution_count": 8,
   "id": "da4b3ae3",
   "metadata": {},
   "outputs": [
    {
     "name": "stderr",
     "output_type": "stream",
     "text": [
      "100%|\u001b[32m█████████████\u001b[0m| 300/300 [00:54<00:00] , Best Loss=0.0133\u001b[0m\n"
     ]
    }
   ],
   "source": [
    "pop.train(epochs=300, mutation_strength=0.5)"
   ]
  },
  {
   "cell_type": "code",
   "execution_count": 9,
   "id": "3d174a30",
   "metadata": {},
   "outputs": [
    {
     "name": "stderr",
     "output_type": "stream",
     "text": [
      "100%|\u001b[32m█████████████\u001b[0m| 500/500 [01:31<00:00] , Best Loss=0.0000\u001b[0m\n"
     ]
    }
   ],
   "source": [
    "pop.train(epochs=500)"
   ]
  },
  {
   "cell_type": "code",
   "execution_count": 10,
   "id": "94600da6",
   "metadata": {},
   "outputs": [
    {
     "name": "stderr",
     "output_type": "stream",
     "text": [
      "100%|\u001b[32m█████████████\u001b[0m| 500/500 [01:31<00:00] , Best Loss=0.0000\u001b[0m\n"
     ]
    }
   ],
   "source": [
    "pop.train(epochs=500, mutation_strength=0.01)"
   ]
  },
  {
   "cell_type": "code",
   "execution_count": 11,
   "id": "d89863a3",
   "metadata": {},
   "outputs": [
    {
     "name": "stdout",
     "output_type": "stream",
     "text": [
      "Model: model\n",
      "Age: 0\n",
      "Train Loss: 0.68\n",
      "Test Loss: 0.0\n",
      "Accuracy: 1\n",
      "F1 Score: 1\n",
      "Model made 75 / 75 correct predictions on the test set.\n",
      "There were 0 incorrect predictions.\n"
     ]
    }
   ],
   "source": [
    "pop.classification_performance_summary()"
   ]
  },
  {
   "cell_type": "markdown",
   "id": "5f2a4a19",
   "metadata": {},
   "source": [
    "# Trening sieci MLP przy pomocy propagacji wstecznej"
   ]
  },
  {
   "cell_type": "markdown",
   "id": "f98b3589",
   "metadata": {},
   "source": [
    "### Architektura (7, [20, 10, 5], 1)"
   ]
  },
  {
   "cell_type": "code",
   "execution_count": 11,
   "id": "5009f9b3",
   "metadata": {},
   "outputs": [],
   "source": [
    "model = MLP(\n",
    "    architecture=MLPArchitecture(4, [20, 10, 5], 3),\n",
    "    dataset_name=\"iris\",\n",
    "    last_layer_activation_func=Softmax(),\n",
    "    loss_function=\"cross_entropy\",\n",
    ")"
   ]
  },
  {
   "cell_type": "code",
   "execution_count": 12,
   "id": "5d549795",
   "metadata": {},
   "outputs": [
    {
     "name": "stdout",
     "output_type": "stream",
     "text": [
      "Model: model\n",
      "Age: 0\n",
      "Train Loss: 1.28\n",
      "Test Loss: 1.45\n",
      "Accuracy: 0.3067\n",
      "F1 Score: 0.1439\n",
      "Model made 23 / 75 correct predictions on the test set.\n",
      "There were 52 incorrect predictions.\n"
     ]
    }
   ],
   "source": [
    "model.classification_performance_summary()"
   ]
  },
  {
   "cell_type": "code",
   "execution_count": 13,
   "id": "236d13db",
   "metadata": {},
   "outputs": [
    {
     "name": "stderr",
     "output_type": "stream",
     "text": [
      "Training from age 0: (best_loss_test: 0.07, loss_test: 0.14) : 100%|██████████| 5000/5000 [00:05<00:00, 975.65it/s] "
     ]
    },
    {
     "name": "stdout",
     "output_type": "stream",
     "text": [
      "--------------------\n",
      "Reverting to best model at age 1739\n",
      "Loss on train set: 0.05\tLoss on test set: 0.07\n",
      "--------------------\n",
      "Model training finished at age 1739 with loss 0.07 on test set\n"
     ]
    },
    {
     "name": "stderr",
     "output_type": "stream",
     "text": [
      "\n"
     ]
    }
   ],
   "source": [
    "model.train(\n",
    "    epochs=int(5000),\n",
    "    learning_rate=0.001,\n",
    "    optimizer=\"rmsprop\",\n",
    "    rms_beta=0.9,\n",
    "    save_till_best=True,\n",
    ")"
   ]
  },
  {
   "cell_type": "code",
   "execution_count": 14,
   "id": "39507b48",
   "metadata": {},
   "outputs": [
    {
     "name": "stdout",
     "output_type": "stream",
     "text": [
      "Model: model\n",
      "Age: 1739\n",
      "Train Loss: 0.05\n",
      "Test Loss: 0.07\n",
      "Accuracy: 0.9733\n",
      "F1 Score: 0.9733\n",
      "Model made 73 / 75 correct predictions on the test set.\n",
      "There were 2 incorrect predictions.\n"
     ]
    }
   ],
   "source": [
    "model.classification_performance_summary()"
   ]
  },
  {
   "cell_type": "markdown",
   "id": "db1529bc",
   "metadata": {},
   "source": [
    "### Architektura (7, [5], 1), czyli taka sama jak dla algorytmu ewolucyjnego"
   ]
  },
  {
   "cell_type": "code",
   "execution_count": 19,
   "id": "af1c4235",
   "metadata": {},
   "outputs": [],
   "source": [
    "model2 = MLP(\n",
    "    architecture=MLPArchitecture(4, [5], 3),\n",
    "    dataset_name=\"iris\",\n",
    "    last_layer_activation_func=Softmax(),\n",
    "    loss_function=\"cross_entropy\",\n",
    ")"
   ]
  },
  {
   "cell_type": "code",
   "execution_count": 20,
   "id": "928baa4f",
   "metadata": {},
   "outputs": [
    {
     "name": "stderr",
     "output_type": "stream",
     "text": [
      "Training from age 0: (best_loss_test: 0.06, loss_test: 0.06) : 100%|██████████| 5000/5000 [00:03<00:00, 1399.46it/s]"
     ]
    },
    {
     "name": "stdout",
     "output_type": "stream",
     "text": [
      "--------------------\n",
      "Reverting to best model at age 4492\n",
      "Loss on train set: 0.06\tLoss on test set: 0.06\n",
      "--------------------\n",
      "Model training finished at age 4492 with loss 0.06 on test set\n"
     ]
    },
    {
     "name": "stderr",
     "output_type": "stream",
     "text": [
      "\n"
     ]
    }
   ],
   "source": [
    "model2.train(\n",
    "    epochs=int(5000),\n",
    "    learning_rate=0.001,\n",
    "    optimizer=\"rmsprop\",\n",
    "    rms_beta=0.9,\n",
    "    save_till_best=True,\n",
    ")"
   ]
  },
  {
   "cell_type": "code",
   "execution_count": 21,
   "id": "6eaf5c94",
   "metadata": {},
   "outputs": [
    {
     "name": "stdout",
     "output_type": "stream",
     "text": [
      "Model: model\n",
      "Age: 4492\n",
      "Train Loss: 0.06\n",
      "Test Loss: 0.06\n",
      "Accuracy: 0.9733\n",
      "F1 Score: 0.9733\n",
      "Model made 73 / 75 correct predictions on the test set.\n",
      "There were 2 incorrect predictions.\n"
     ]
    }
   ],
   "source": [
    "model2.classification_performance_summary()"
   ]
  },
  {
   "cell_type": "markdown",
   "id": "a75faba2",
   "metadata": {},
   "source": [
    "# Wnioski\n",
    "W przypadku tego zbioru propagacja wsteczna działa bardzo dobrze. Nie była jednak w stanie przekroczyć wartości funkcji straty (cross entropy) poniżej 0.06. Oznacza to że ostateczny model osiąga wynik F1-score rzędu 0.97\n",
    "\n",
    "Dla algorytmu ewolucyjnego szczególne korzyści przyniósł trening z większą siłą mutacji. Pozwolił on osiągnąć wyraźnie niższą wartość funkcji straty (~0.001)\n",
    "\n",
    "Co więcej, model w dalszym ciągu wykazywał skłonność do nauki"
   ]
  }
 ],
 "metadata": {
  "kernelspec": {
   "display_name": "Python 3",
   "language": "python",
   "name": "python3"
  },
  "language_info": {
   "codemirror_mode": {
    "name": "ipython",
    "version": 3
   },
   "file_extension": ".py",
   "mimetype": "text/x-python",
   "name": "python",
   "nbconvert_exporter": "python",
   "pygments_lexer": "ipython3",
   "version": "3.12.4"
  }
 },
 "nbformat": 4,
 "nbformat_minor": 5
}
