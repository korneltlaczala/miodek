{
 "cells": [
  {
   "cell_type": "code",
   "execution_count": 1,
   "id": "870b2979",
   "metadata": {},
   "outputs": [],
   "source": [
    "import os\n",
    "import sys\n",
    "sys.path.append(os.path.join(\"..\"))\n",
    "\n",
    "from evo_models import *\n",
    "\n",
    "%load_ext autoreload\n",
    "%autoreload 2"
   ]
  },
  {
   "cell_type": "markdown",
   "id": "384c548a",
   "metadata": {},
   "source": [
    "# Trening sieci MLP przy pomocy algorytmu ewolucyjnego"
   ]
  },
  {
   "cell_type": "code",
   "execution_count": 16,
   "id": "a2bdc8cc",
   "metadata": {},
   "outputs": [
    {
     "name": "stdout",
     "output_type": "stream",
     "text": [
      "Best model test loss: 24.28294138898855\n"
     ]
    }
   ],
   "source": [
    "pop = ModelPopulation(\n",
    "    # architecture=MLPArchitecture(7, [20, 10, 5], 1),\n",
    "    architecture=MLPArchitecture(7, [5], 1),\n",
    "    dataset_name=\"auto_mpg\",\n",
    "    population_size=100,\n",
    ")\n",
    "pop.show_test_loss()"
   ]
  },
  {
   "cell_type": "code",
   "execution_count": 17,
   "id": "9d491c28",
   "metadata": {},
   "outputs": [
    {
     "name": "stderr",
     "output_type": "stream",
     "text": [
      "100%|\u001b[32m█████████████\u001b[0m| 100/100 [00:30<00:00] , Best Loss=9.3049\u001b[0m\n"
     ]
    }
   ],
   "source": [
    "pop.train(epochs=100)"
   ]
  },
  {
   "cell_type": "code",
   "execution_count": 18,
   "id": "aea97796",
   "metadata": {},
   "outputs": [
    {
     "name": "stderr",
     "output_type": "stream",
     "text": [
      "100%|\u001b[32m█████████████\u001b[0m| 100/100 [00:29<00:00] , Best Loss=6.5869\u001b[0m\n"
     ]
    }
   ],
   "source": [
    "pop.train(epochs=100)"
   ]
  },
  {
   "cell_type": "code",
   "execution_count": 19,
   "id": "da4b3ae3",
   "metadata": {},
   "outputs": [
    {
     "name": "stderr",
     "output_type": "stream",
     "text": [
      "100%|\u001b[32m█████████████\u001b[0m| 100/100 [00:29<00:00] , Best Loss=5.6827\u001b[0m\n"
     ]
    }
   ],
   "source": [
    "pop.train(epochs=100)"
   ]
  },
  {
   "cell_type": "code",
   "execution_count": 20,
   "id": "3d174a30",
   "metadata": {},
   "outputs": [
    {
     "name": "stderr",
     "output_type": "stream",
     "text": [
      "100%|\u001b[32m█████████████\u001b[0m| 500/500 [02:29<00:00] , Best Loss=4.6162\u001b[0m\n"
     ]
    }
   ],
   "source": [
    "pop.train(epochs=500)"
   ]
  },
  {
   "cell_type": "code",
   "execution_count": 22,
   "id": "94600da6",
   "metadata": {},
   "outputs": [
    {
     "name": "stderr",
     "output_type": "stream",
     "text": [
      "100%|\u001b[32m█████████████\u001b[0m| 500/500 [02:25<00:00] , Best Loss=4.4578\u001b[0m\n"
     ]
    }
   ],
   "source": [
    "pop.train(epochs=500, mutation_strength=0.01)"
   ]
  },
  {
   "cell_type": "markdown",
   "id": "5f2a4a19",
   "metadata": {},
   "source": [
    "# Trening sieci MLP przy pomocy propagacji wstecznej"
   ]
  },
  {
   "cell_type": "markdown",
   "id": "f98b3589",
   "metadata": {},
   "source": [
    "### Architektura (7, [20, 10, 5], 1)"
   ]
  },
  {
   "cell_type": "code",
   "execution_count": 38,
   "id": "5009f9b3",
   "metadata": {},
   "outputs": [],
   "source": [
    "model = MLP(\n",
    "    architecture=MLPArchitecture(7, [20, 10, 5], 1),\n",
    "    dataset_name=\"auto_mpg\",\n",
    ")"
   ]
  },
  {
   "cell_type": "code",
   "execution_count": 39,
   "id": "236d13db",
   "metadata": {},
   "outputs": [
    {
     "name": "stderr",
     "output_type": "stream",
     "text": [
      "Training from age 0: (best_loss_test: 6.6, loss_test: 10.65) : 100%|██████████| 5000/5000 [00:08<00:00, 610.38it/s]"
     ]
    },
    {
     "name": "stdout",
     "output_type": "stream",
     "text": [
      "--------------------\n",
      "Reverting to best model at age 1242\n",
      "Loss on train set: 4.49\tLoss on test set: 6.6\n",
      "--------------------\n",
      "Model training finished at age 1242 with loss 6.6 on test set\n"
     ]
    },
    {
     "name": "stderr",
     "output_type": "stream",
     "text": [
      "\n"
     ]
    }
   ],
   "source": [
    "model.train(\n",
    "    epochs=int(5000),\n",
    "    learning_rate=0.001,\n",
    "    optimizer=\"rmsprop\",\n",
    "    rms_beta=0.9,\n",
    "    save_till_best=True,\n",
    ")"
   ]
  },
  {
   "cell_type": "code",
   "execution_count": 41,
   "id": "ca1a6771",
   "metadata": {},
   "outputs": [
    {
     "name": "stderr",
     "output_type": "stream",
     "text": [
      "Training from age 1242: (best_loss_test: 6.6, loss_test: 10.94): 100%|██████████| 10000/10000 [00:15<00:00, 630.29it/s]"
     ]
    },
    {
     "name": "stdout",
     "output_type": "stream",
     "text": [
      "--------------------\n",
      "Reverting to best model at age 1242\n",
      "Loss on train set: 4.49\tLoss on test set: 6.6\n",
      "--------------------\n",
      "Model training finished at age 1242 with loss 6.6 on test set\n"
     ]
    },
    {
     "name": "stderr",
     "output_type": "stream",
     "text": [
      "\n"
     ]
    }
   ],
   "source": [
    "model.train(\n",
    "    epochs=10000,\n",
    "    learning_rate=0.0001,\n",
    "    optimizer=\"rmsprop\",\n",
    "    rms_beta=0.999,\n",
    "    save_till_best=True,\n",
    ")\n"
   ]
  },
  {
   "cell_type": "markdown",
   "id": "db1529bc",
   "metadata": {},
   "source": [
    "### Architektura (7, [5], 1), czyli taka sama jak dla algorytmu ewolucyjnego"
   ]
  },
  {
   "cell_type": "code",
   "execution_count": 42,
   "id": "af1c4235",
   "metadata": {},
   "outputs": [],
   "source": [
    "model2 = MLP(\n",
    "    architecture=MLPArchitecture(7, [5], 1),\n",
    "    dataset_name=\"auto_mpg\",\n",
    ")"
   ]
  },
  {
   "cell_type": "code",
   "execution_count": 43,
   "id": "928baa4f",
   "metadata": {},
   "outputs": [
    {
     "name": "stderr",
     "output_type": "stream",
     "text": [
      "Training from age 0: (best_loss_test: 6.79, loss_test: 6.82) : 100%|██████████| 5000/5000 [00:04<00:00, 1177.26it/s]  "
     ]
    },
    {
     "name": "stdout",
     "output_type": "stream",
     "text": [
      "--------------------\n",
      "Reverting to best model at age 5000\n",
      "Loss on train set: 5.81\tLoss on test set: 6.79\n",
      "--------------------\n",
      "Model training finished at age 5000 with loss 6.79 on test set\n"
     ]
    },
    {
     "name": "stderr",
     "output_type": "stream",
     "text": [
      "\n"
     ]
    }
   ],
   "source": [
    "model2.train(\n",
    "    epochs=int(5000),\n",
    "    learning_rate=0.001,\n",
    "    optimizer=\"rmsprop\",\n",
    "    rms_beta=0.9,\n",
    "    save_till_best=True,\n",
    ")"
   ]
  },
  {
   "cell_type": "code",
   "execution_count": 44,
   "id": "40dbc2b6",
   "metadata": {},
   "outputs": [
    {
     "name": "stderr",
     "output_type": "stream",
     "text": [
      "Training from age 5000: (best_loss_test: 6.09, loss_test: 6.83): 100%|██████████| 10000/10000 [00:08<00:00, 1168.67it/s]"
     ]
    },
    {
     "name": "stdout",
     "output_type": "stream",
     "text": [
      "--------------------\n",
      "Reverting to best model at age 10514\n",
      "Loss on train set: 5.43\tLoss on test set: 6.09\n",
      "--------------------\n",
      "Model training finished at age 10514 with loss 6.09 on test set\n"
     ]
    },
    {
     "name": "stderr",
     "output_type": "stream",
     "text": [
      "\n"
     ]
    }
   ],
   "source": [
    "model2.train(\n",
    "    epochs=int(10000),\n",
    "    learning_rate=0.001,\n",
    "    optimizer=\"rmsprop\",\n",
    "    rms_beta=0.9,\n",
    "    save_till_best=True,\n",
    ")"
   ]
  },
  {
   "cell_type": "code",
   "execution_count": 46,
   "id": "9c088224",
   "metadata": {},
   "outputs": [
    {
     "name": "stderr",
     "output_type": "stream",
     "text": [
      "Training from age 10526: (best_loss_test: 6.09, loss_test: 6.58): 100%|██████████| 10000/10000 [00:08<00:00, 1136.81it/s]"
     ]
    },
    {
     "name": "stdout",
     "output_type": "stream",
     "text": [
      "--------------------\n",
      "Reverting to best model at age 10526\n",
      "Loss on train set: 5.43\tLoss on test set: 6.09\n",
      "--------------------\n",
      "Model training finished at age 10526 with loss 6.09 on test set\n"
     ]
    },
    {
     "name": "stderr",
     "output_type": "stream",
     "text": [
      "\n"
     ]
    }
   ],
   "source": [
    "model2.train(\n",
    "    epochs=int(10000),\n",
    "    learning_rate=0.0001,\n",
    "    optimizer=\"rmsprop\",\n",
    "    rms_beta=0.9,\n",
    "    regularization=\"l2\",\n",
    "    reg_lambda=1e-4,\n",
    "    save_till_best=True,\n",
    ")"
   ]
  },
  {
   "cell_type": "markdown",
   "id": "a75faba2",
   "metadata": {},
   "source": [
    "# Wnioski\n",
    "Algorytm ewolucyjny osiągnął lepszy wynik od backpropagacji , nawet wspomaganej takimi praktykami jak zastosowanie rmspropa, uczenia z momentem, regularyzacji, zmian współczynnika nauczania oraz zatrzymywania procesu nauczania przy przeuczaniu\n",
    "\n",
    "Backprop nie był w stanie na żaden sposób zejść poniżej MSE 6.0\n",
    "\n",
    "Algorytm ewolucyjny osiągnął ostatecznie MSE < 4.5"
   ]
  }
 ],
 "metadata": {
  "kernelspec": {
   "display_name": "Python 3",
   "language": "python",
   "name": "python3"
  },
  "language_info": {
   "codemirror_mode": {
    "name": "ipython",
    "version": 3
   },
   "file_extension": ".py",
   "mimetype": "text/x-python",
   "name": "python",
   "nbconvert_exporter": "python",
   "pygments_lexer": "ipython3",
   "version": "3.12.4"
  }
 },
 "nbformat": 4,
 "nbformat_minor": 5
}
