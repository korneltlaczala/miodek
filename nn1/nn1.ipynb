{
 "cells": [
  {
   "cell_type": "code",
   "execution_count": null,
   "metadata": {},
   "outputs": [],
   "source": [
    "from models import MLP, Tester\n",
    "import numpy as np\n",
    "import pandas as pd"
   ]
  },
  {
   "cell_type": "markdown",
   "metadata": {},
   "source": [
    "### Import datasets"
   ]
  },
  {
   "cell_type": "code",
   "execution_count": 19,
   "metadata": {},
   "outputs": [],
   "source": [
    "steps_train = pd.read_csv('data/steps-large-training.csv')\n",
    "steps_test = pd.read_csv('data/steps-large-test.csv')\n",
    "\n",
    "square_train = pd.read_csv('data/square-simple-training.csv')\n",
    "square_test = pd.read_csv('data/square-simple-test.csv')"
   ]
  },
  {
   "cell_type": "code",
   "execution_count": 67,
   "metadata": {},
   "outputs": [
    {
     "data": {
      "text/plain": [
       "array([[-80.,  80.,   0., ...,  80.,  80.,  80.]])"
      ]
     },
     "execution_count": 67,
     "metadata": {},
     "output_type": "execute_result"
    }
   ],
   "source": [
    "weights0 = np.array([[1e6], [1e6], [1e6], [1e6], [1e6]])\n",
    "biases0 = np.array([9*1e6, 3/2*1e6, 1/2*1e6, -1/2*1e6, -3/2*1e6])\n",
    "weights1 = np.array([[-160, 80, 80, 80, 80]])\n",
    "\n",
    "x = np.array([steps_train[\"x\"]])\n",
    "y = np.array([steps_train[\"y\"]])\n",
    "\n",
    "outputs = np.dot(weights0, x)\n",
    "outputs += biases0[:, np.newaxis]\n",
    "# print(x[:, 0:2])\n",
    "# print(outputs[:, 0:2])\n",
    "\n",
    "model = MLP(1, [5], 1)\n",
    "# print(f\"layer weights shape: {model.layers[0].weights.shape}\")\n",
    "# print(f\"layer biases shape: {model.layers[0].biases.shape}\")\n",
    "# print(f\"weights shape: {weights0.shape}\")\n",
    "# print(f\"biases shape: {biases0.shape}\")\n",
    "model.layers[0].set_weights(weights0)\n",
    "model.layers[0].set_biases(biases0)\n",
    "model.layers[1].set_weights(weights1)\n",
    "# for layer in model.layers:\n",
    "#     print(layer)\n",
    "#     print(\"\\n\")\n",
    "\n",
    "model.forward(x)"
   ]
  }
 ],
 "metadata": {
  "kernelspec": {
   "display_name": "Python 3",
   "language": "python",
   "name": "python3"
  },
  "language_info": {
   "codemirror_mode": {
    "name": "ipython",
    "version": 3
   },
   "file_extension": ".py",
   "mimetype": "text/x-python",
   "name": "python",
   "nbconvert_exporter": "python",
   "pygments_lexer": "ipython3",
   "version": "3.10.8"
  }
 },
 "nbformat": 4,
 "nbformat_minor": 2
}
