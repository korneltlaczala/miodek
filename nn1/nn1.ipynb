{
 "cells": [
  {
   "cell_type": "code",
   "execution_count": 101,
   "metadata": {},
   "outputs": [],
   "source": [
    "from models import MLP, Tester\n",
    "import numpy as np\n",
    "import pandas as pd"
   ]
  },
  {
   "cell_type": "markdown",
   "metadata": {},
   "source": [
    "### Import datasets"
   ]
  },
  {
   "cell_type": "code",
   "execution_count": 88,
   "metadata": {},
   "outputs": [],
   "source": [
    "steps_train = pd.read_csv('data/steps-large-training.csv')\n",
    "steps_test = pd.read_csv('data/steps-large-test.csv')\n",
    "\n",
    "square_train = pd.read_csv('data/square-simple-training.csv')\n",
    "square_test = pd.read_csv('data/square-simple-test.csv')"
   ]
  },
  {
   "cell_type": "code",
   "execution_count": 89,
   "metadata": {},
   "outputs": [],
   "source": [
    "weights0 = np.array([[1e6], [1e6], [1e6], [1e6], [1e6]])\n",
    "biases0 = np.array([9*1e6, 3/2*1e6, 1/2*1e6, -1/2*1e6, -3/2*1e6])\n",
    "weights1 = np.array([[-160, 80, 80, 80, 80]])"
   ]
  },
  {
   "cell_type": "code",
   "execution_count": 90,
   "metadata": {},
   "outputs": [],
   "source": [
    "x = np.array([steps_train[\"x\"]])\n",
    "y = np.array([steps_train[\"y\"]])\n",
    "\n",
    "outputs = np.dot(weights0, x)\n",
    "outputs += biases0[:, np.newaxis]\n",
    "\n",
    "model = MLP(1, [5], 1)\n",
    "model.layers[0].set_weights(weights0)\n",
    "model.layers[0].set_biases(biases0)\n",
    "model.layers[1].set_weights(weights1)\n",
    "model.save(\"model\")"
   ]
  },
  {
   "cell_type": "markdown",
   "metadata": {},
   "source": [
    "#### Wynik na zbiorze treningowym"
   ]
  },
  {
   "cell_type": "code",
   "execution_count": 103,
   "metadata": {},
   "outputs": [
    {
     "name": "stdout",
     "output_type": "stream",
     "text": [
      "mse: 0.022223735468825244\n"
     ]
    }
   ],
   "source": [
    "tester = Tester(steps_train, model)\n",
    "tester.report()"
   ]
  },
  {
   "cell_type": "markdown",
   "metadata": {},
   "source": [
    "#### Wynik na zbiorze testowym"
   ]
  },
  {
   "cell_type": "code",
   "execution_count": 104,
   "metadata": {},
   "outputs": [
    {
     "name": "stdout",
     "output_type": "stream",
     "text": [
      "mse: 0.0\n"
     ]
    }
   ],
   "source": [
    "tester = Tester(steps_test, model)\n",
    "tester.report()"
   ]
  }
 ],
 "metadata": {
  "kernelspec": {
   "display_name": "Python 3",
   "language": "python",
   "name": "python3"
  },
  "language_info": {
   "codemirror_mode": {
    "name": "ipython",
    "version": 3
   },
   "file_extension": ".py",
   "mimetype": "text/x-python",
   "name": "python",
   "nbconvert_exporter": "python",
   "pygments_lexer": "ipython3",
   "version": "3.10.8"
  }
 },
 "nbformat": 4,
 "nbformat_minor": 2
}
