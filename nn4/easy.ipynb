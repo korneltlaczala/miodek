{
 "cells": [
  {
   "cell_type": "code",
   "execution_count": 2,
   "id": "8596f976",
   "metadata": {},
   "outputs": [],
   "source": [
    "%load_ext autoreload\n",
    "%autoreload 2\n",
    "\n",
    "from models import *\n",
    "from initializers import *\n",
    "import models\n",
    "\n",
    "def ask_if_continue():\n",
    "    while True:\n",
    "        answer = input(\"Continue? [y/n] \")\n",
    "        if answer == \"y\":\n",
    "            return True\n",
    "        elif answer == \"n\":\n",
    "            return False\n",
    "\n",
    "def train_momentum(model, epoch_counts, learning_rates, lambdas, batch_size=None):\n",
    "    for i in range(len(epoch_counts)):\n",
    "        for j in range(10):\n",
    "            model.train(epochs=epoch_counts[i],\n",
    "                        learning_rate=learning_rates[i],\n",
    "                        batch=True,\n",
    "                        optimizer=\"momentum\",\n",
    "                        momentum_lambda=lambdas[i],\n",
    "                        batch_size=batch_size,\n",
    "                        save_till_best=True)\n",
    "        if not ask_if_continue():\n",
    "            break\n",
    "    model.plot()\n",
    "\n",
    "def train_rmsprop(model, epoch_counts, learning_rates, rms_beta, batch_size=None, verbose=True, save_till_best=False):\n",
    "    for i in range(len(epoch_counts)):\n",
    "        print(epoch_counts[i])\n",
    "        model.train(epochs=epoch_counts[i],\n",
    "                    learning_rate=learning_rates[i],\n",
    "                    batch=True,\n",
    "                    optimizer=\"rmsprop\",\n",
    "                    rms_beta=rms_beta,\n",
    "                    batch_size=batch_size,\n",
    "                    verbose=verbose,\n",
    "                    save_till_best=save_till_best)\n",
    "    model.plot()"
   ]
  },
  {
   "cell_type": "code",
   "execution_count": 22,
   "id": "4c8767f9",
   "metadata": {},
   "outputs": [
    {
     "name": "stderr",
     "output_type": "stream",
     "text": [
      "  0%|          | 0/1000 [00:00<?, ?it/s]\n"
     ]
    },
    {
     "ename": "ValueError",
     "evalue": "operands could not be broadcast together with shapes (500,) (500,2) ",
     "output_type": "error",
     "traceback": [
      "\u001b[1;31m---------------------------------------------------------------------------\u001b[0m",
      "\u001b[1;31mValueError\u001b[0m                                Traceback (most recent call last)",
      "Cell \u001b[1;32mIn[22], line 4\u001b[0m\n\u001b[0;32m      2\u001b[0m arch \u001b[38;5;241m=\u001b[39m MLPArchitecture(\u001b[38;5;241m2\u001b[39m, [\u001b[38;5;241m10\u001b[39m], \u001b[38;5;241m2\u001b[39m)\n\u001b[0;32m      3\u001b[0m model \u001b[38;5;241m=\u001b[39m MLP(architecture\u001b[38;5;241m=\u001b[39march, dataset_name\u001b[38;5;241m=\u001b[39mdataset_name, last_layer_activation_func\u001b[38;5;241m=\u001b[39mSoftmax(), loss_function\u001b[38;5;241m=\u001b[39m\u001b[38;5;124m\"\u001b[39m\u001b[38;5;124mcross_entropy\u001b[39m\u001b[38;5;124m\"\u001b[39m,)\n\u001b[1;32m----> 4\u001b[0m \u001b[43mmodel\u001b[49m\u001b[38;5;241;43m.\u001b[39;49m\u001b[43mtrain\u001b[49m\u001b[43m(\u001b[49m\u001b[43mepochs\u001b[49m\u001b[38;5;241;43m=\u001b[39;49m\u001b[38;5;241;43m1000\u001b[39;49m\u001b[43m,\u001b[49m\u001b[43m \u001b[49m\u001b[43mlearning_rate\u001b[49m\u001b[38;5;241;43m=\u001b[39;49m\u001b[38;5;241;43m0.01\u001b[39;49m\u001b[43m,\u001b[49m\u001b[43m \u001b[49m\u001b[43mbatch\u001b[49m\u001b[38;5;241;43m=\u001b[39;49m\u001b[38;5;28;43;01mTrue\u001b[39;49;00m\u001b[43m,\u001b[49m\u001b[43m \u001b[49m\u001b[43moptimizer\u001b[49m\u001b[38;5;241;43m=\u001b[39;49m\u001b[38;5;124;43m\"\u001b[39;49m\u001b[38;5;124;43mrmsprop\u001b[39;49m\u001b[38;5;124;43m\"\u001b[39;49m\u001b[43m,\u001b[49m\u001b[43m \u001b[49m\u001b[43mrms_beta\u001b[49m\u001b[38;5;241;43m=\u001b[39;49m\u001b[38;5;241;43m0.9\u001b[39;49m\u001b[43m,\u001b[49m\u001b[43m \u001b[49m\u001b[43msave_till_best\u001b[49m\u001b[38;5;241;43m=\u001b[39;49m\u001b[38;5;28;43;01mTrue\u001b[39;49;00m\u001b[43m)\u001b[49m\n",
      "File \u001b[1;32mc:\\Users\\Kornel\\Github\\college\\6sem\\miodek\\nn4\\models.py:351\u001b[0m, in \u001b[0;36mMLP.train\u001b[1;34m(self, epochs, learning_rate, batch, batch_size, verbose, momentum_lambda, rms_beta, optimizer, save_till_best)\u001b[0m\n\u001b[0;32m    348\u001b[0m \u001b[38;5;66;03m# best_loss_test = round(self.history.best_loss_test, 2)\u001b[39;00m\n\u001b[0;32m    349\u001b[0m \u001b[38;5;66;03m# loss_test = round(self.data.evaluate_test(self.predict_test()), 2)\u001b[39;00m\n\u001b[0;32m    350\u001b[0m best_loss_test \u001b[38;5;241m=\u001b[39m \u001b[38;5;28mself\u001b[39m\u001b[38;5;241m.\u001b[39mhistory\u001b[38;5;241m.\u001b[39mbest_loss_test\n\u001b[1;32m--> 351\u001b[0m loss_test \u001b[38;5;241m=\u001b[39m \u001b[38;5;28;43mself\u001b[39;49m\u001b[38;5;241;43m.\u001b[39;49m\u001b[43mdata\u001b[49m\u001b[38;5;241;43m.\u001b[39;49m\u001b[43mevaluate_test\u001b[49m\u001b[43m(\u001b[49m\u001b[38;5;28;43mself\u001b[39;49m\u001b[38;5;241;43m.\u001b[39;49m\u001b[43mpredict_test\u001b[49m\u001b[43m(\u001b[49m\u001b[43m)\u001b[49m\u001b[43m)\u001b[49m\n\u001b[0;32m    352\u001b[0m \u001b[38;5;66;03m# if best_loss_test == loss_test:\u001b[39;00m\n\u001b[0;32m    353\u001b[0m \u001b[38;5;66;03m#     print(f\"new best model at age {self.age-1} with {loss_test} MSE on test set\")\u001b[39;00m\n\u001b[0;32m    354\u001b[0m iterator\u001b[38;5;241m.\u001b[39mset_description(\n\u001b[0;32m    355\u001b[0m     \u001b[38;5;124mf\u001b[39m\u001b[38;5;124m\"\u001b[39m\u001b[38;5;132;01m{\u001b[39;00m\u001b[38;5;28mstr\u001b[39m(\u001b[38;5;124mf\u001b[39m\u001b[38;5;124m'\u001b[39m\u001b[38;5;124mTraining from age \u001b[39m\u001b[38;5;132;01m{\u001b[39;00mstart_age\u001b[38;5;132;01m}\u001b[39;00m\u001b[38;5;124m: (best_loss_test: \u001b[39m\u001b[38;5;132;01m{\u001b[39;00mbest_loss_test\u001b[38;5;132;01m}\u001b[39;00m\u001b[38;5;124m, loss_test: \u001b[39m\u001b[38;5;132;01m{\u001b[39;00mloss_test\u001b[38;5;132;01m}\u001b[39;00m\u001b[38;5;124m)\u001b[39m\u001b[38;5;124m'\u001b[39m)\u001b[38;5;132;01m:\u001b[39;00m\u001b[38;5;124m<61\u001b[39m\u001b[38;5;132;01m}\u001b[39;00m\u001b[38;5;124m\"\u001b[39m\n\u001b[0;32m    356\u001b[0m )\n",
      "File \u001b[1;32mc:\\Users\\Kornel\\Github\\college\\6sem\\miodek\\nn4\\models.py:77\u001b[0m, in \u001b[0;36mDataSet.evaluate_test\u001b[1;34m(self, y_pred_test)\u001b[0m\n\u001b[0;32m     76\u001b[0m \u001b[38;5;28;01mdef\u001b[39;00m \u001b[38;5;21mevaluate_test\u001b[39m(\u001b[38;5;28mself\u001b[39m, y_pred_test):\n\u001b[1;32m---> 77\u001b[0m     \u001b[38;5;28;01mreturn\u001b[39;00m \u001b[38;5;28;43mself\u001b[39;49m\u001b[38;5;241;43m.\u001b[39;49m\u001b[43m_evaluate\u001b[49m\u001b[43m(\u001b[49m\u001b[38;5;28;43mself\u001b[39;49m\u001b[38;5;241;43m.\u001b[39;49m\u001b[43my_test\u001b[49m\u001b[43m,\u001b[49m\u001b[43m \u001b[49m\u001b[43my_pred_test\u001b[49m\u001b[43m)\u001b[49m\n",
      "File \u001b[1;32mc:\\Users\\Kornel\\Github\\college\\6sem\\miodek\\nn4\\models.py:96\u001b[0m, in \u001b[0;36mDataSet._evaluate\u001b[1;34m(self, y_true, y_pred)\u001b[0m\n\u001b[0;32m     94\u001b[0m \u001b[38;5;28;01mif\u001b[39;00m y_true_denormalized\u001b[38;5;241m.\u001b[39mndim \u001b[38;5;241m==\u001b[39m \u001b[38;5;241m1\u001b[39m \u001b[38;5;129;01mor\u001b[39;00m y_true_denormalized\u001b[38;5;241m.\u001b[39mshape[\u001b[38;5;241m1\u001b[39m] \u001b[38;5;241m==\u001b[39m \u001b[38;5;241m1\u001b[39m:\n\u001b[0;32m     95\u001b[0m     y_pred_denormalized \u001b[38;5;241m=\u001b[39m np\u001b[38;5;241m.\u001b[39mclip(y_pred_denormalized, epsilon, \u001b[38;5;241m1\u001b[39m \u001b[38;5;241m-\u001b[39m epsilon)\n\u001b[1;32m---> 96\u001b[0m     \u001b[38;5;28;01mreturn\u001b[39;00m \u001b[38;5;241m-\u001b[39mnp\u001b[38;5;241m.\u001b[39mmean(\u001b[43my_true_denormalized\u001b[49m\u001b[43m \u001b[49m\u001b[38;5;241;43m*\u001b[39;49m\u001b[43m \u001b[49m\u001b[43mnp\u001b[49m\u001b[38;5;241;43m.\u001b[39;49m\u001b[43mlog\u001b[49m\u001b[43m(\u001b[49m\u001b[43my_pred_denormalized\u001b[49m\u001b[43m)\u001b[49m \u001b[38;5;241m+\u001b[39m (\u001b[38;5;241m1\u001b[39m \u001b[38;5;241m-\u001b[39m y_true_denormalized) \u001b[38;5;241m*\u001b[39m np\u001b[38;5;241m.\u001b[39mlog(\u001b[38;5;241m1\u001b[39m \u001b[38;5;241m-\u001b[39m y_pred_denormalized))\n\u001b[0;32m     97\u001b[0m \u001b[38;5;28;01melse\u001b[39;00m:\n\u001b[0;32m     98\u001b[0m     \u001b[38;5;28mprint\u001b[39m(\u001b[38;5;124m\"\u001b[39m\u001b[38;5;124mMulti-class cross-entropy not implemented\u001b[39m\u001b[38;5;124m\"\u001b[39m)\n",
      "\u001b[1;31mValueError\u001b[0m: operands could not be broadcast together with shapes (500,) (500,2) "
     ]
    }
   ],
   "source": [
    "dataset_name = \"easy\"\n",
    "arch = MLPArchitecture(2, [10], 2)\n",
    "model = MLP(architecture=arch, dataset_name=dataset_name, last_layer_activation_func=Softmax(), loss_function=\"cross_entropy\",)\n",
    "model.train(epochs=1000, learning_rate=0.01, batch=True, optimizer=\"rmsprop\", rms_beta=0.9, save_till_best=True)"
   ]
  }
 ],
 "metadata": {
  "kernelspec": {
   "display_name": "Python 3",
   "language": "python",
   "name": "python3"
  },
  "language_info": {
   "codemirror_mode": {
    "name": "ipython",
    "version": 3
   },
   "file_extension": ".py",
   "mimetype": "text/x-python",
   "name": "python",
   "nbconvert_exporter": "python",
   "pygments_lexer": "ipython3",
   "version": "3.12.4"
  }
 },
 "nbformat": 4,
 "nbformat_minor": 5
}
