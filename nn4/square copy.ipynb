{
 "cells": [
  {
   "cell_type": "code",
   "execution_count": 27,
   "metadata": {},
   "outputs": [
    {
     "name": "stdout",
     "output_type": "stream",
     "text": [
      "The autoreload extension is already loaded. To reload it, use:\n",
      "  %reload_ext autoreload\n"
     ]
    }
   ],
   "source": [
    "%load_ext autoreload\n",
    "%autoreload 2\n",
    "\n",
    "from models import *\n",
    "from initializers import *\n",
    "import models\n",
    "\n",
    "def ask_if_continue():\n",
    "    while True:\n",
    "        answer = input(\"Continue? [y/n] \")\n",
    "        if answer == \"y\":\n",
    "            return True\n",
    "        elif answer == \"n\":\n",
    "            return False\n",
    "\n",
    "def train_momentum(model, epoch_counts, learning_rates, lambdas, report_interval=100, batch_size=None):\n",
    "    for i in range(len(epoch_counts)):\n",
    "        for j in range(10):\n",
    "            model.train(epochs=epoch_counts[i],\n",
    "                        learning_rate=learning_rates[i],\n",
    "                        batch=True,\n",
    "                        optimizer=\"momentum\",\n",
    "                        momentum_lambda=lambdas[i],\n",
    "                        report_interval=report_interval,\n",
    "                        batch_size=batch_size,\n",
    "                        save_till_best=True)\n",
    "        if not ask_if_continue():\n",
    "            break\n",
    "    model.plot()\n",
    "\n",
    "def train_rmsprop(model, epoch_counts, learning_rates, rms_beta, report_interval=100, batch_size=None, verbose=True, save_till_best=False):\n",
    "    for i in range(len(epoch_counts)):\n",
    "        model.train(epochs=epoch_counts[i],\n",
    "                    learning_rate=learning_rates[i],\n",
    "                    batch=True,\n",
    "                    optimizer=\"rmsprop\",\n",
    "                    rms_beta=rms_beta,\n",
    "                    report_interval=report_interval,\n",
    "                    batch_size=batch_size,\n",
    "                    verbose=verbose,\n",
    "                    save_till_best=save_till_best)\n",
    "    model.plot()"
   ]
  },
  {
   "cell_type": "markdown",
   "metadata": {},
   "source": [
    "## SGD with momentum"
   ]
  },
  {
   "cell_type": "code",
   "execution_count": 2,
   "metadata": {},
   "outputs": [
    {
     "name": "stderr",
     "output_type": "stream",
     "text": [
      "100%|██████████| 200/200 [00:09<00:00, 21.81it/s]\n"
     ]
    },
    {
     "name": "stdout",
     "output_type": "stream",
     "text": [
      "--------------------\n",
      "Reverting to best model at age 175\n",
      "Best model MSE: 18.75\n",
      "--------------------\n"
     ]
    },
    {
     "name": "stderr",
     "output_type": "stream",
     "text": [
      "100%|██████████| 200/200 [00:09<00:00, 21.83it/s]\n"
     ]
    },
    {
     "name": "stdout",
     "output_type": "stream",
     "text": [
      "--------------------\n",
      "Reverting to best model at age 367\n",
      "Best model MSE: 11.23\n",
      "--------------------\n"
     ]
    },
    {
     "name": "stderr",
     "output_type": "stream",
     "text": [
      "100%|██████████| 200/200 [00:09<00:00, 21.76it/s]\n"
     ]
    },
    {
     "name": "stdout",
     "output_type": "stream",
     "text": [
      "--------------------\n",
      "Reverting to best model at age 567\n",
      "Best model MSE: 8.6\n",
      "--------------------\n"
     ]
    },
    {
     "name": "stderr",
     "output_type": "stream",
     "text": [
      "100%|██████████| 200/200 [00:09<00:00, 21.36it/s]\n"
     ]
    },
    {
     "name": "stdout",
     "output_type": "stream",
     "text": [
      "--------------------\n",
      "Reverting to best model at age 764\n",
      "Best model MSE: 7.66\n",
      "--------------------\n"
     ]
    },
    {
     "name": "stderr",
     "output_type": "stream",
     "text": [
      "100%|██████████| 200/200 [00:09<00:00, 21.27it/s]\n"
     ]
    },
    {
     "name": "stdout",
     "output_type": "stream",
     "text": [
      "--------------------\n",
      "Reverting to best model at age 930\n",
      "Best model MSE: 7.13\n",
      "--------------------\n"
     ]
    },
    {
     "name": "stderr",
     "output_type": "stream",
     "text": [
      "100%|██████████| 200/200 [00:09<00:00, 21.05it/s]\n"
     ]
    },
    {
     "name": "stdout",
     "output_type": "stream",
     "text": [
      "--------------------\n",
      "Reverting to best model at age 1079\n",
      "Best model MSE: 6.32\n",
      "--------------------\n"
     ]
    },
    {
     "name": "stderr",
     "output_type": "stream",
     "text": [
      "100%|██████████| 200/200 [00:09<00:00, 21.21it/s]\n"
     ]
    },
    {
     "name": "stdout",
     "output_type": "stream",
     "text": [
      "--------------------\n",
      "Reverting to best model at age 1273\n",
      "Best model MSE: 6.12\n",
      "--------------------\n"
     ]
    },
    {
     "name": "stderr",
     "output_type": "stream",
     "text": [
      "100%|██████████| 200/200 [00:09<00:00, 20.93it/s]\n"
     ]
    },
    {
     "name": "stdout",
     "output_type": "stream",
     "text": [
      "--------------------\n",
      "Reverting to best model at age 1361\n",
      "Best model MSE: 5.42\n",
      "--------------------\n"
     ]
    },
    {
     "name": "stderr",
     "output_type": "stream",
     "text": [
      "100%|██████████| 200/200 [00:09<00:00, 21.23it/s]\n"
     ]
    },
    {
     "name": "stdout",
     "output_type": "stream",
     "text": [
      "--------------------\n",
      "Reverting to best model at age 1361\n",
      "Best model MSE: 5.42\n",
      "--------------------\n"
     ]
    },
    {
     "name": "stderr",
     "output_type": "stream",
     "text": [
      "100%|██████████| 200/200 [00:09<00:00, 21.17it/s]\n"
     ]
    },
    {
     "name": "stdout",
     "output_type": "stream",
     "text": [
      "--------------------\n",
      "Reverting to best model at age 1361\n",
      "Best model MSE: 5.42\n",
      "--------------------\n"
     ]
    },
    {
     "name": "stderr",
     "output_type": "stream",
     "text": [
      "100%|██████████| 200/200 [00:09<00:00, 21.24it/s]\n"
     ]
    },
    {
     "name": "stdout",
     "output_type": "stream",
     "text": [
      "--------------------\n",
      "Reverting to best model at age 1542\n",
      "Best model MSE: 4.87\n",
      "--------------------\n"
     ]
    },
    {
     "name": "stderr",
     "output_type": "stream",
     "text": [
      "100%|██████████| 200/200 [00:09<00:00, 21.20it/s]\n"
     ]
    },
    {
     "name": "stdout",
     "output_type": "stream",
     "text": [
      "--------------------\n",
      "Reverting to best model at age 1643\n",
      "Best model MSE: 4.49\n",
      "--------------------\n"
     ]
    },
    {
     "name": "stderr",
     "output_type": "stream",
     "text": [
      "100%|██████████| 200/200 [00:09<00:00, 21.25it/s]\n"
     ]
    },
    {
     "name": "stdout",
     "output_type": "stream",
     "text": [
      "--------------------\n",
      "Reverting to best model at age 1777\n",
      "Best model MSE: 4.07\n",
      "--------------------\n"
     ]
    },
    {
     "name": "stderr",
     "output_type": "stream",
     "text": [
      "100%|██████████| 200/200 [00:09<00:00, 21.46it/s]\n"
     ]
    },
    {
     "name": "stdout",
     "output_type": "stream",
     "text": [
      "--------------------\n",
      "Reverting to best model at age 1949\n",
      "Best model MSE: 3.62\n",
      "--------------------\n"
     ]
    },
    {
     "name": "stderr",
     "output_type": "stream",
     "text": [
      "100%|██████████| 200/200 [00:09<00:00, 21.38it/s]\n"
     ]
    },
    {
     "name": "stdout",
     "output_type": "stream",
     "text": [
      "--------------------\n",
      "Reverting to best model at age 1949\n",
      "Best model MSE: 3.62\n",
      "--------------------\n"
     ]
    },
    {
     "name": "stderr",
     "output_type": "stream",
     "text": [
      "100%|██████████| 200/200 [00:09<00:00, 21.60it/s]\n"
     ]
    },
    {
     "name": "stdout",
     "output_type": "stream",
     "text": [
      "--------------------\n",
      "Reverting to best model at age 1949\n",
      "Best model MSE: 3.62\n",
      "--------------------\n"
     ]
    },
    {
     "name": "stderr",
     "output_type": "stream",
     "text": [
      "100%|██████████| 200/200 [00:09<00:00, 22.08it/s]\n"
     ]
    },
    {
     "name": "stdout",
     "output_type": "stream",
     "text": [
      "--------------------\n",
      "Reverting to best model at age 1949\n",
      "Best model MSE: 3.62\n",
      "--------------------\n"
     ]
    },
    {
     "name": "stderr",
     "output_type": "stream",
     "text": [
      "100%|██████████| 200/200 [00:09<00:00, 21.60it/s]\n"
     ]
    },
    {
     "name": "stdout",
     "output_type": "stream",
     "text": [
      "--------------------\n",
      "Reverting to best model at age 1949\n",
      "Best model MSE: 3.62\n",
      "--------------------\n"
     ]
    },
    {
     "name": "stderr",
     "output_type": "stream",
     "text": [
      "100%|██████████| 200/200 [00:09<00:00, 20.90it/s]\n"
     ]
    },
    {
     "name": "stdout",
     "output_type": "stream",
     "text": [
      "--------------------\n",
      "Reverting to best model at age 1949\n",
      "Best model MSE: 3.62\n",
      "--------------------\n"
     ]
    },
    {
     "name": "stderr",
     "output_type": "stream",
     "text": [
      "100%|██████████| 200/200 [00:09<00:00, 21.79it/s]\n"
     ]
    },
    {
     "name": "stdout",
     "output_type": "stream",
     "text": [
      "--------------------\n",
      "Reverting to best model at age 2114\n",
      "Best model MSE: 3.6\n",
      "--------------------\n"
     ]
    },
    {
     "name": "stderr",
     "output_type": "stream",
     "text": [
      "100%|██████████| 200/200 [00:09<00:00, 21.44it/s]\n"
     ]
    },
    {
     "name": "stdout",
     "output_type": "stream",
     "text": [
      "--------------------\n",
      "Reverting to best model at age 2304\n",
      "Best model MSE: 3.21\n",
      "--------------------\n"
     ]
    },
    {
     "name": "stderr",
     "output_type": "stream",
     "text": [
      "100%|██████████| 200/200 [00:09<00:00, 21.31it/s]\n"
     ]
    },
    {
     "name": "stdout",
     "output_type": "stream",
     "text": [
      "--------------------\n",
      "Reverting to best model at age 2495\n",
      "Best model MSE: 2.6\n",
      "--------------------\n"
     ]
    },
    {
     "name": "stderr",
     "output_type": "stream",
     "text": [
      "100%|██████████| 200/200 [00:09<00:00, 21.51it/s]\n"
     ]
    },
    {
     "name": "stdout",
     "output_type": "stream",
     "text": [
      "--------------------\n",
      "Reverting to best model at age 2655\n",
      "Best model MSE: 2.06\n",
      "--------------------\n"
     ]
    },
    {
     "name": "stderr",
     "output_type": "stream",
     "text": [
      "100%|██████████| 200/200 [00:09<00:00, 21.44it/s]\n"
     ]
    },
    {
     "name": "stdout",
     "output_type": "stream",
     "text": [
      "--------------------\n",
      "Reverting to best model at age 2782\n",
      "Best model MSE: 1.75\n",
      "--------------------\n"
     ]
    },
    {
     "name": "stderr",
     "output_type": "stream",
     "text": [
      "100%|██████████| 200/200 [00:09<00:00, 21.35it/s]\n"
     ]
    },
    {
     "name": "stdout",
     "output_type": "stream",
     "text": [
      "--------------------\n",
      "Reverting to best model at age 2904\n",
      "Best model MSE: 1.66\n",
      "--------------------\n"
     ]
    },
    {
     "name": "stderr",
     "output_type": "stream",
     "text": [
      "100%|██████████| 200/200 [00:09<00:00, 21.81it/s]\n"
     ]
    },
    {
     "name": "stdout",
     "output_type": "stream",
     "text": [
      "--------------------\n",
      "Reverting to best model at age 2941\n",
      "Best model MSE: 1.61\n",
      "--------------------\n"
     ]
    },
    {
     "name": "stderr",
     "output_type": "stream",
     "text": [
      " 56%|█████▌    | 112/200 [00:05<00:04, 21.38it/s]\n"
     ]
    },
    {
     "ename": "KeyboardInterrupt",
     "evalue": "",
     "output_type": "error",
     "traceback": [
      "\u001b[1;31m---------------------------------------------------------------------------\u001b[0m",
      "\u001b[1;31mKeyboardInterrupt\u001b[0m                         Traceback (most recent call last)",
      "Cell \u001b[1;32mIn[2], line 11\u001b[0m\n\u001b[0;32m      8\u001b[0m learning_rates \u001b[38;5;241m=\u001b[39m [\u001b[38;5;241m0.1\u001b[39m, \u001b[38;5;241m0.1\u001b[39m, \u001b[38;5;241m0.1\u001b[39m, \u001b[38;5;241m0.05\u001b[39m, \u001b[38;5;241m0.05\u001b[39m, \u001b[38;5;241m0.05\u001b[39m]\n\u001b[0;32m      9\u001b[0m lambdas \u001b[38;5;241m=\u001b[39m [\u001b[38;5;241m0.3\u001b[39m, \u001b[38;5;241m0.6\u001b[39m, \u001b[38;5;241m0.8\u001b[39m, \u001b[38;5;241m0.6\u001b[39m, \u001b[38;5;241m0.8\u001b[39m, \u001b[38;5;241m0.6\u001b[39m]\n\u001b[1;32m---> 11\u001b[0m \u001b[43mtrain_momentum\u001b[49m\u001b[43m(\u001b[49m\u001b[43mmodel\u001b[49m\u001b[38;5;241;43m=\u001b[39;49m\u001b[43mmodel_momentum\u001b[49m\u001b[43m,\u001b[49m\n\u001b[0;32m     12\u001b[0m \u001b[43m               \u001b[49m\u001b[43mepoch_counts\u001b[49m\u001b[38;5;241;43m=\u001b[39;49m\u001b[43mepoch_counts\u001b[49m\u001b[43m,\u001b[49m\n\u001b[0;32m     13\u001b[0m \u001b[43m               \u001b[49m\u001b[43mlearning_rates\u001b[49m\u001b[38;5;241;43m=\u001b[39;49m\u001b[43mlearning_rates\u001b[49m\u001b[43m,\u001b[49m\n\u001b[0;32m     14\u001b[0m \u001b[43m               \u001b[49m\u001b[43mlambdas\u001b[49m\u001b[38;5;241;43m=\u001b[39;49m\u001b[43mlambdas\u001b[49m\u001b[43m,\u001b[49m\n\u001b[0;32m     15\u001b[0m \u001b[43m               \u001b[49m\u001b[43mreport_interval\u001b[49m\u001b[38;5;241;43m=\u001b[39;49m\u001b[38;5;241;43m10\u001b[39;49m\u001b[43m,\u001b[49m\n\u001b[0;32m     16\u001b[0m \u001b[43m               \u001b[49m\u001b[43mbatch_size\u001b[49m\u001b[38;5;241;43m=\u001b[39;49m\u001b[38;5;241;43m1\u001b[39;49m\u001b[43m)\u001b[49m\n",
      "Cell \u001b[1;32mIn[1], line 19\u001b[0m, in \u001b[0;36mtrain_momentum\u001b[1;34m(model, epoch_counts, learning_rates, lambdas, report_interval, batch_size)\u001b[0m\n\u001b[0;32m     17\u001b[0m \u001b[38;5;28;01mfor\u001b[39;00m i \u001b[38;5;129;01min\u001b[39;00m \u001b[38;5;28mrange\u001b[39m(\u001b[38;5;28mlen\u001b[39m(epoch_counts)):\n\u001b[0;32m     18\u001b[0m     \u001b[38;5;28;01mfor\u001b[39;00m j \u001b[38;5;129;01min\u001b[39;00m \u001b[38;5;28mrange\u001b[39m(\u001b[38;5;241m10\u001b[39m):\n\u001b[1;32m---> 19\u001b[0m         \u001b[43mmodel\u001b[49m\u001b[38;5;241;43m.\u001b[39;49m\u001b[43mtrain\u001b[49m\u001b[43m(\u001b[49m\u001b[43mepochs\u001b[49m\u001b[38;5;241;43m=\u001b[39;49m\u001b[43mepoch_counts\u001b[49m\u001b[43m[\u001b[49m\u001b[43mi\u001b[49m\u001b[43m]\u001b[49m\u001b[43m,\u001b[49m\n\u001b[0;32m     20\u001b[0m \u001b[43m                    \u001b[49m\u001b[43mlearning_rate\u001b[49m\u001b[38;5;241;43m=\u001b[39;49m\u001b[43mlearning_rates\u001b[49m\u001b[43m[\u001b[49m\u001b[43mi\u001b[49m\u001b[43m]\u001b[49m\u001b[43m,\u001b[49m\n\u001b[0;32m     21\u001b[0m \u001b[43m                    \u001b[49m\u001b[43mbatch\u001b[49m\u001b[38;5;241;43m=\u001b[39;49m\u001b[38;5;28;43;01mTrue\u001b[39;49;00m\u001b[43m,\u001b[49m\n\u001b[0;32m     22\u001b[0m \u001b[43m                    \u001b[49m\u001b[43moptimizer\u001b[49m\u001b[38;5;241;43m=\u001b[39;49m\u001b[38;5;124;43m\"\u001b[39;49m\u001b[38;5;124;43mmomentum\u001b[39;49m\u001b[38;5;124;43m\"\u001b[39;49m\u001b[43m,\u001b[49m\n\u001b[0;32m     23\u001b[0m \u001b[43m                    \u001b[49m\u001b[43mmomentum_lambda\u001b[49m\u001b[38;5;241;43m=\u001b[39;49m\u001b[43mlambdas\u001b[49m\u001b[43m[\u001b[49m\u001b[43mi\u001b[49m\u001b[43m]\u001b[49m\u001b[43m,\u001b[49m\n\u001b[0;32m     24\u001b[0m \u001b[43m                    \u001b[49m\u001b[43mreport_interval\u001b[49m\u001b[38;5;241;43m=\u001b[39;49m\u001b[43mreport_interval\u001b[49m\u001b[43m,\u001b[49m\n\u001b[0;32m     25\u001b[0m \u001b[43m                    \u001b[49m\u001b[43mbatch_size\u001b[49m\u001b[38;5;241;43m=\u001b[39;49m\u001b[43mbatch_size\u001b[49m\u001b[43m,\u001b[49m\n\u001b[0;32m     26\u001b[0m \u001b[43m                    \u001b[49m\u001b[43msave_till_best\u001b[49m\u001b[38;5;241;43m=\u001b[39;49m\u001b[38;5;28;43;01mTrue\u001b[39;49;00m\u001b[43m)\u001b[49m\n\u001b[0;32m     27\u001b[0m     \u001b[38;5;28;01mif\u001b[39;00m \u001b[38;5;129;01mnot\u001b[39;00m ask_if_continue():\n\u001b[0;32m     28\u001b[0m         \u001b[38;5;28;01mbreak\u001b[39;00m\n",
      "File \u001b[1;32mc:\\Users\\Kornel\\Github\\college\\6sem\\miodek\\nn4\\models.py:332\u001b[0m, in \u001b[0;36mtrain\u001b[1;34m(self, epochs, learning_rate, batch, batch_size, verbose, report_interval, momentum_lambda, rms_beta, optimizer, save_till_best)\u001b[0m\n\u001b[0;32m    330\u001b[0m \u001b[38;5;28;01melse\u001b[39;00m:\n\u001b[0;32m    331\u001b[0m     Xs, ys \u001b[38;5;241m=\u001b[39m \u001b[38;5;28mself\u001b[39m\u001b[38;5;241m.\u001b[39mdata\u001b[38;5;241m.\u001b[39mget_batches(batch_size)\n\u001b[1;32m--> 332\u001b[0m     \u001b[38;5;28;01mfor\u001b[39;00m X, y \u001b[38;5;129;01min\u001b[39;00m \u001b[38;5;28mzip\u001b[39m(Xs, ys):\n\u001b[0;32m    333\u001b[0m         \u001b[38;5;28mself\u001b[39m\u001b[38;5;241m.\u001b[39mbackprop(X, y, learning_rate, optimizer, momentum_lambda, rms_beta)\n\u001b[0;32m    335\u001b[0m \u001b[38;5;28mself\u001b[39m\u001b[38;5;241m.\u001b[39mhistory\u001b[38;5;241m.\u001b[39mlog()\n",
      "File \u001b[1;32mc:\\Users\\Kornel\\Github\\college\\6sem\\miodek\\nn4\\models.py:298\u001b[0m, in \u001b[0;36mbackprop\u001b[1;34m(self, X, y_true, learning_rate, optimizer, momentum_lambda, rms_beta)\u001b[0m\n\u001b[0;32m    297\u001b[0m \u001b[38;5;28;01mdef\u001b[39;00m \u001b[38;5;21mbackprop\u001b[39m(\u001b[38;5;28mself\u001b[39m, X, y_true, learning_rate, optimizer, momentum_lambda\u001b[38;5;241m=\u001b[39m\u001b[38;5;28;01mNone\u001b[39;00m, rms_beta\u001b[38;5;241m=\u001b[39m\u001b[38;5;28;01mNone\u001b[39;00m):\n\u001b[1;32m--> 298\u001b[0m     \u001b[38;5;28mself\u001b[39m\u001b[38;5;241m.\u001b[39m_forward(X\u001b[38;5;241m=\u001b[39mX, save\u001b[38;5;241m=\u001b[39m\u001b[38;5;28;01mTrue\u001b[39;00m)\n\u001b[0;32m    299\u001b[0m     \u001b[38;5;28mself\u001b[39m\u001b[38;5;241m.\u001b[39mbackward(y_true)\n\u001b[0;32m    300\u001b[0m     \u001b[38;5;28mself\u001b[39m\u001b[38;5;241m.\u001b[39mupdate(X, learning_rate, optimizer, momentum_lambda, rms_beta)\n",
      "File \u001b[1;32mc:\\Users\\Kornel\\Github\\college\\6sem\\miodek\\nn4\\models.py:304\u001b[0m, in \u001b[0;36mbackward\u001b[1;34m(self, y_true)\u001b[0m\n\u001b[0;32m    302\u001b[0m \u001b[38;5;28;01mdef\u001b[39;00m \u001b[38;5;21mbackward\u001b[39m(\u001b[38;5;28mself\u001b[39m, y_true):\n\u001b[0;32m    303\u001b[0m     next_layer \u001b[38;5;241m=\u001b[39m y_true\n\u001b[1;32m--> 304\u001b[0m     \u001b[38;5;28;01mfor\u001b[39;00m layer \u001b[38;5;129;01min\u001b[39;00m \u001b[38;5;28mreversed\u001b[39m(\u001b[38;5;28mself\u001b[39m\u001b[38;5;241m.\u001b[39mlayers):\n\u001b[0;32m    305\u001b[0m         layer\u001b[38;5;241m.\u001b[39mbackward(next_layer)\n\u001b[0;32m    306\u001b[0m         next_layer \u001b[38;5;241m=\u001b[39m layer\n",
      "File \u001b[1;32mc:\\Users\\Kornel\\Github\\college\\6sem\\miodek\\nn4\\models.py:136\u001b[0m, in \u001b[0;36mLayer.backward\u001b[1;34m(self, next_layer)\u001b[0m\n\u001b[0;32m    135\u001b[0m \u001b[38;5;28;01mdef\u001b[39;00m \u001b[38;5;21mbackward\u001b[39m(\u001b[38;5;28mself\u001b[39m, next_layer):\n\u001b[1;32m--> 136\u001b[0m     weight_sums \u001b[38;5;241m=\u001b[39m \u001b[43mnp\u001b[49m\u001b[38;5;241;43m.\u001b[39;49m\u001b[43mdot\u001b[49m\u001b[43m(\u001b[49m\u001b[43mnext_layer\u001b[49m\u001b[38;5;241;43m.\u001b[39;49m\u001b[43me\u001b[49m\u001b[43m,\u001b[49m\u001b[43m \u001b[49m\u001b[43mnext_layer\u001b[49m\u001b[38;5;241;43m.\u001b[39;49m\u001b[43mweights\u001b[49m\u001b[38;5;241;43m.\u001b[39;49m\u001b[43mT\u001b[49m\u001b[43m)\u001b[49m\n\u001b[0;32m    137\u001b[0m     \u001b[38;5;28mself\u001b[39m\u001b[38;5;241m.\u001b[39me \u001b[38;5;241m=\u001b[39m weight_sums \u001b[38;5;241m*\u001b[39m \u001b[38;5;28mself\u001b[39m\u001b[38;5;241m.\u001b[39mactivation_func\u001b[38;5;241m.\u001b[39mderivative(\u001b[38;5;28mself\u001b[39m\u001b[38;5;241m.\u001b[39mz)\n",
      "\u001b[1;31mKeyboardInterrupt\u001b[0m: "
     ]
    }
   ],
   "source": [
    "dataset_name = \"square-large\"\n",
    "arch = MLPArchitecture(1, [150], 1)\n",
    "model_momentum = MLP(architecture=arch, dataset_name=dataset_name, initializer=XavierUniformInitializer(), activation_func=Sigmoid())\n",
    "layer = model_momentum.layers[0]\n",
    "\n",
    "epoch_length = 200\n",
    "epoch_counts = [epoch_length, epoch_length, epoch_length, epoch_length, epoch_length, epoch_length]\n",
    "learning_rates = [0.1, 0.1, 0.1, 0.05, 0.05, 0.05]\n",
    "lambdas = [0.3, 0.6, 0.8, 0.6, 0.8, 0.6]\n",
    "\n",
    "train_momentum(model=model_momentum,\n",
    "               epoch_counts=epoch_counts,\n",
    "               learning_rates=learning_rates,\n",
    "               lambdas=lambdas,\n",
    "               report_interval=10,\n",
    "               batch_size=1)\n"
   ]
  },
  {
   "cell_type": "code",
   "execution_count": 56,
   "metadata": {},
   "outputs": [
    {
     "name": "stdout",
     "output_type": "stream",
     "text": [
      "--------------------\n",
      "Reverting to best model at age 3541\n",
      "Best model MSE: 1.01\n",
      "--------------------\n"
     ]
    },
    {
     "data": {
      "image/png": "[encoded data removed]",
      "text/plain": [
       "<Figure size 640x480 with 1 Axes>"
      ]
     },
     "metadata": {},
     "output_type": "display_data"
    },
    {
     "name": "stdout",
     "output_type": "stream",
     "text": [
      "MSE on train set: 0.0\tMSE on test set: 1.43\n"
     ]
    }
   ],
   "source": [
    "model_momentum.revert_to_best()\n",
    "model_momentum.plot()\n",
    "model_momentum.evaluate()"
   ]
  },
  {
   "cell_type": "code",
   "execution_count": 51,
   "metadata": {},
   "outputs": [
    {
     "data": {
      "image/png": "[encoded data removed]",
      "text/plain": [
       "<Figure size 640x480 with 1 Axes>"
      ]
     },
     "metadata": {},
     "output_type": "display_data"
    },
    {
     "name": "stdout",
     "output_type": "stream",
     "text": [
      "MSE on train set: 0.0\tMSE on test set: 1.43\n"
     ]
    },
    {
     "data": {
      "text/plain": [
       "3541"
      ]
     },
     "execution_count": 51,
     "metadata": {},
     "output_type": "execute_result"
    }
   ],
   "source": [
    "import copy\n",
    "\n",
    "test_model = copy.deepcopy(model_momentum)\n",
    "test_model.age = test_model.history.best_age\n",
    "test_model.set_weights(test_model.history.best_weights)\n",
    "test_model.set_biases(test_model.history.best_biases)\n",
    "test_model.plot()\n",
    "\n",
    "test_model.evaluate()\n",
    "test_model.age"
   ]
  },
  {
   "cell_type": "markdown",
   "metadata": {},
   "source": [
    "## Mini-batch with RMSProp"
   ]
  },
  {
   "cell_type": "code",
   "execution_count": 34,
   "metadata": {},
   "outputs": [
    {
     "name": "stderr",
     "output_type": "stream",
     "text": [
      "Training from age 0: (best_test_mse: 1.25, test_mse: 10.34)  : 100%|██████████| 400/400 [00:25<00:00, 15.64it/s]   \n"
     ]
    },
    {
     "name": "stdout",
     "output_type": "stream",
     "text": [
      "--------------------\n",
      "Reverting to best model at age 201\n",
      "MSE on train set: 1.27\tMSE on test set: 1.25\n",
      "--------------------\n",
      "Model training finished at age 201 with 1.2476852174685504 MSE on test set\n"
     ]
    },
    {
     "name": "stderr",
     "output_type": "stream",
     "text": [
      "Training from age 201: (best_test_mse: 0.32, test_mse: 21.47): 100%|██████████| 500/500 [00:31<00:00, 15.77it/s]\n"
     ]
    },
    {
     "name": "stdout",
     "output_type": "stream",
     "text": [
      "--------------------\n",
      "Reverting to best model at age 252\n",
      "MSE on train set: 0.36\tMSE on test set: 0.32\n",
      "--------------------\n",
      "Model training finished at age 252 with 0.31555276017927786 MSE on test set\n"
     ]
    },
    {
     "name": "stderr",
     "output_type": "stream",
     "text": [
      "Training from age 252: (best_test_mse: 0.18, test_mse: 1.48) : 100%|██████████| 500/500 [00:32<00:00, 15.60it/s]\n"
     ]
    },
    {
     "name": "stdout",
     "output_type": "stream",
     "text": [
      "--------------------\n",
      "Reverting to best model at age 424\n",
      "MSE on train set: 0.14\tMSE on test set: 0.18\n",
      "--------------------\n",
      "Model training finished at age 424 with 0.1837011633500601 MSE on test set\n"
     ]
    },
    {
     "name": "stderr",
     "output_type": "stream",
     "text": [
      "Training from age 424: (best_test_mse: 0.18, test_mse: 7.92) : 100%|██████████| 5000/5000 [05:14<00:00, 15.88it/s]\n"
     ]
    },
    {
     "name": "stdout",
     "output_type": "stream",
     "text": [
      "--------------------\n",
      "Reverting to best model at age 424\n",
      "MSE on train set: 0.14\tMSE on test set: 0.18\n",
      "--------------------\n",
      "Model training finished at age 424 with 0.1837011633500601 MSE on test set\n"
     ]
    },
    {
     "data": {
      "image/png": "[encoded data removed]",
      "text/plain": [
       "<Figure size 640x480 with 1 Axes>"
      ]
     },
     "metadata": {},
     "output_type": "display_data"
    }
   ],
   "source": [
    "dataset_name = \"square-large\"\n",
    "arch = MLPArchitecture(1, [100], 1)\n",
    "model = MLP(architecture=arch, dataset_name=dataset_name, initializer=XavierNormalInitializer())\n",
    "\n",
    "epoch_counts = [400, 500, 500, 5000]\n",
    "learning_rates = [0.01, 0.005, 0.001, 0.001]\n",
    "\n",
    "train_rmsprop(model=model,\n",
    "              epoch_counts=epoch_counts,\n",
    "              learning_rates=learning_rates,\n",
    "              rms_beta=0.9,\n",
    "              report_interval=10,\n",
    "              batch_size=1,\n",
    "              save_till_best=True)"
   ]
  }
 ],
 "metadata": {
  "kernelspec": {
   "display_name": "Python 3",
   "language": "python",
   "name": "python3"
  },
  "language_info": {
   "codemirror_mode": {
    "name": "ipython",
    "version": 3
   },
   "file_extension": ".py",
   "mimetype": "text/x-python",
   "name": "python",
   "nbconvert_exporter": "python",
   "pygments_lexer": "ipython3",
   "version": "3.12.4"
  }
 },
 "nbformat": 4,
 "nbformat_minor": 2
}
